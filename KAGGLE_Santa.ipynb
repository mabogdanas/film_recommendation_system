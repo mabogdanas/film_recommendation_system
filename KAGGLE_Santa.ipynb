{
  "nbformat": 4,
  "nbformat_minor": 0,
  "metadata": {
    "colab": {
      "name": "KAGGLE_Santa.ipynb",
      "provenance": [],
      "collapsed_sections": []
    },
    "kernelspec": {
      "name": "python3",
      "display_name": "Python 3"
    }
  },
  "cells": [
    {
      "cell_type": "code",
      "metadata": {
        "id": "lljn8GcHMjDn",
        "colab_type": "code",
        "colab": {}
      },
      "source": [
        "import numpy as np\n",
        "import pandas as pd\n",
        "import matplotlib.pyplot as plt\n",
        "from numba import njit\n",
        "from itertools import product\n",
        "import seaborn as sns"
      ],
      "execution_count": 0,
      "outputs": []
    },
    {
      "cell_type": "code",
      "metadata": {
        "colab_type": "code",
        "id": "Od8cK6mVgsIj",
        "colab": {}
      },
      "source": [
        "family_data = pd.read_csv(\"https://raw.githubusercontent.com/mabogdanas/ma_data/santa-kaggle/family_data.csv\",\n",
        "                          index_col = 'family_id')"
      ],
      "execution_count": 0,
      "outputs": []
    },
    {
      "cell_type": "code",
      "metadata": {
        "id": "OpNAOX9BiRqH",
        "colab_type": "code",
        "outputId": "6b70e0a3-ea36-485b-fe09-ae52b43f4d42",
        "colab": {
          "base_uri": "https://localhost:8080/",
          "height": 235
        }
      },
      "source": [
        "family_data.head()"
      ],
      "execution_count": 0,
      "outputs": [
        {
          "output_type": "execute_result",
          "data": {
            "text/html": [
              "<div>\n",
              "<style scoped>\n",
              "    .dataframe tbody tr th:only-of-type {\n",
              "        vertical-align: middle;\n",
              "    }\n",
              "\n",
              "    .dataframe tbody tr th {\n",
              "        vertical-align: top;\n",
              "    }\n",
              "\n",
              "    .dataframe thead th {\n",
              "        text-align: right;\n",
              "    }\n",
              "</style>\n",
              "<table border=\"1\" class=\"dataframe\">\n",
              "  <thead>\n",
              "    <tr style=\"text-align: right;\">\n",
              "      <th></th>\n",
              "      <th>choice_0</th>\n",
              "      <th>choice_1</th>\n",
              "      <th>choice_2</th>\n",
              "      <th>choice_3</th>\n",
              "      <th>choice_4</th>\n",
              "      <th>choice_5</th>\n",
              "      <th>choice_6</th>\n",
              "      <th>choice_7</th>\n",
              "      <th>choice_8</th>\n",
              "      <th>choice_9</th>\n",
              "      <th>n_people</th>\n",
              "    </tr>\n",
              "    <tr>\n",
              "      <th>family_id</th>\n",
              "      <th></th>\n",
              "      <th></th>\n",
              "      <th></th>\n",
              "      <th></th>\n",
              "      <th></th>\n",
              "      <th></th>\n",
              "      <th></th>\n",
              "      <th></th>\n",
              "      <th></th>\n",
              "      <th></th>\n",
              "      <th></th>\n",
              "    </tr>\n",
              "  </thead>\n",
              "  <tbody>\n",
              "    <tr>\n",
              "      <th>0</th>\n",
              "      <td>52</td>\n",
              "      <td>38</td>\n",
              "      <td>12</td>\n",
              "      <td>82</td>\n",
              "      <td>33</td>\n",
              "      <td>75</td>\n",
              "      <td>64</td>\n",
              "      <td>76</td>\n",
              "      <td>10</td>\n",
              "      <td>28</td>\n",
              "      <td>4</td>\n",
              "    </tr>\n",
              "    <tr>\n",
              "      <th>1</th>\n",
              "      <td>26</td>\n",
              "      <td>4</td>\n",
              "      <td>82</td>\n",
              "      <td>5</td>\n",
              "      <td>11</td>\n",
              "      <td>47</td>\n",
              "      <td>38</td>\n",
              "      <td>6</td>\n",
              "      <td>66</td>\n",
              "      <td>61</td>\n",
              "      <td>4</td>\n",
              "    </tr>\n",
              "    <tr>\n",
              "      <th>2</th>\n",
              "      <td>100</td>\n",
              "      <td>54</td>\n",
              "      <td>25</td>\n",
              "      <td>12</td>\n",
              "      <td>27</td>\n",
              "      <td>82</td>\n",
              "      <td>10</td>\n",
              "      <td>89</td>\n",
              "      <td>80</td>\n",
              "      <td>33</td>\n",
              "      <td>3</td>\n",
              "    </tr>\n",
              "    <tr>\n",
              "      <th>3</th>\n",
              "      <td>2</td>\n",
              "      <td>95</td>\n",
              "      <td>1</td>\n",
              "      <td>96</td>\n",
              "      <td>32</td>\n",
              "      <td>6</td>\n",
              "      <td>40</td>\n",
              "      <td>31</td>\n",
              "      <td>9</td>\n",
              "      <td>59</td>\n",
              "      <td>2</td>\n",
              "    </tr>\n",
              "    <tr>\n",
              "      <th>4</th>\n",
              "      <td>53</td>\n",
              "      <td>1</td>\n",
              "      <td>47</td>\n",
              "      <td>93</td>\n",
              "      <td>26</td>\n",
              "      <td>3</td>\n",
              "      <td>46</td>\n",
              "      <td>16</td>\n",
              "      <td>42</td>\n",
              "      <td>39</td>\n",
              "      <td>4</td>\n",
              "    </tr>\n",
              "  </tbody>\n",
              "</table>\n",
              "</div>"
            ],
            "text/plain": [
              "           choice_0  choice_1  choice_2  ...  choice_8  choice_9  n_people\n",
              "family_id                                ...                              \n",
              "0                52        38        12  ...        10        28         4\n",
              "1                26         4        82  ...        66        61         4\n",
              "2               100        54        25  ...        80        33         3\n",
              "3                 2        95         1  ...         9        59         2\n",
              "4                53         1        47  ...        42        39         4\n",
              "\n",
              "[5 rows x 11 columns]"
            ]
          },
          "metadata": {
            "tags": []
          },
          "execution_count": 22
        }
      ]
    },
    {
      "cell_type": "code",
      "metadata": {
        "id": "wXA5BADtJAgH",
        "colab_type": "code",
        "colab": {}
      },
      "source": [
        "submission = pd.read_csv(\"https://raw.githubusercontent.com/mabogdanas/ma_data/santa-kaggle/sample_submission.csv\",\n",
        "                  index_col='family_id')"
      ],
      "execution_count": 0,
      "outputs": []
    },
    {
      "cell_type": "code",
      "metadata": {
        "id": "nHWOlq8vnC0t",
        "colab_type": "code",
        "outputId": "6f8cc541-896b-4842-f121-aed5dc997f46",
        "colab": {
          "base_uri": "https://localhost:8080/",
          "height": 235
        }
      },
      "source": [
        "submission.head()"
      ],
      "execution_count": 0,
      "outputs": [
        {
          "output_type": "execute_result",
          "data": {
            "text/html": [
              "<div>\n",
              "<style scoped>\n",
              "    .dataframe tbody tr th:only-of-type {\n",
              "        vertical-align: middle;\n",
              "    }\n",
              "\n",
              "    .dataframe tbody tr th {\n",
              "        vertical-align: top;\n",
              "    }\n",
              "\n",
              "    .dataframe thead th {\n",
              "        text-align: right;\n",
              "    }\n",
              "</style>\n",
              "<table border=\"1\" class=\"dataframe\">\n",
              "  <thead>\n",
              "    <tr style=\"text-align: right;\">\n",
              "      <th></th>\n",
              "      <th>assigned_day</th>\n",
              "    </tr>\n",
              "    <tr>\n",
              "      <th>family_id</th>\n",
              "      <th></th>\n",
              "    </tr>\n",
              "  </thead>\n",
              "  <tbody>\n",
              "    <tr>\n",
              "      <th>0</th>\n",
              "      <td>100</td>\n",
              "    </tr>\n",
              "    <tr>\n",
              "      <th>1</th>\n",
              "      <td>99</td>\n",
              "    </tr>\n",
              "    <tr>\n",
              "      <th>2</th>\n",
              "      <td>98</td>\n",
              "    </tr>\n",
              "    <tr>\n",
              "      <th>3</th>\n",
              "      <td>97</td>\n",
              "    </tr>\n",
              "    <tr>\n",
              "      <th>4</th>\n",
              "      <td>96</td>\n",
              "    </tr>\n",
              "  </tbody>\n",
              "</table>\n",
              "</div>"
            ],
            "text/plain": [
              "           assigned_day\n",
              "family_id              \n",
              "0                   100\n",
              "1                    99\n",
              "2                    98\n",
              "3                    97\n",
              "4                    96"
            ]
          },
          "metadata": {
            "tags": []
          },
          "execution_count": 24
        }
      ]
    },
    {
      "cell_type": "code",
      "metadata": {
        "id": "8CLD43E2tMLJ",
        "colab_type": "code",
        "colab": {}
      },
      "source": [
        "family_size_dict = family_data[['n_people']].to_dict()['n_people']\n",
        "\n",
        "cols = [f'choice_{i}' for i in range(10)]\n",
        "choice_dict = family_data[cols].to_dict()\n",
        "\n",
        "N_DAYS = 100\n",
        "MAX_OCCUPANCY = 300\n",
        "MIN_OCCUPANCY = 125\n",
        "\n",
        "# from 100 to 1\n",
        "days = list(range(N_DAYS,0,-1))"
      ],
      "execution_count": 0,
      "outputs": []
    },
    {
      "cell_type": "code",
      "metadata": {
        "id": "k5jNDj-Yw39d",
        "colab_type": "code",
        "colab": {}
      },
      "source": [
        "def cost_function(prediction):\n",
        "\n",
        "    penalty = 0\n",
        "\n",
        "    daily_occupancy = {k:0 for k in days}\n",
        "    \n",
        "    # Looping over each family; d is the day for each family f\n",
        "    for f, d in enumerate(prediction):\n",
        "\n",
        "        n = family_size_dict[f]\n",
        "        choice_0 = choice_dict['choice_0'][f]\n",
        "        choice_1 = choice_dict['choice_1'][f]\n",
        "        choice_2 = choice_dict['choice_2'][f]\n",
        "        choice_3 = choice_dict['choice_3'][f]\n",
        "        choice_4 = choice_dict['choice_4'][f]\n",
        "        choice_5 = choice_dict['choice_5'][f]\n",
        "        choice_6 = choice_dict['choice_6'][f]\n",
        "        choice_7 = choice_dict['choice_7'][f]\n",
        "        choice_8 = choice_dict['choice_8'][f]\n",
        "        choice_9 = choice_dict['choice_9'][f]\n",
        "\n",
        "        # add the family member count to the daily occupancy\n",
        "        daily_occupancy[d] += n\n",
        "\n",
        "        # Calculate the penalty for not getting top preference\n",
        "        if d == choice_0:\n",
        "            penalty += 0\n",
        "        elif d == choice_1:\n",
        "            penalty += 50\n",
        "        elif d == choice_2:\n",
        "            penalty += 50 + 9 * n\n",
        "        elif d == choice_3:\n",
        "            penalty += 100 + 9 * n\n",
        "        elif d == choice_4:\n",
        "            penalty += 200 + 9 * n\n",
        "        elif d == choice_5:\n",
        "            penalty += 200 + 18 * n\n",
        "        elif d == choice_6:\n",
        "            penalty += 300 + 18 * n\n",
        "        elif d == choice_7:\n",
        "            penalty += 300 + 36 * n\n",
        "        elif d == choice_8:\n",
        "            penalty += 400 + 36 * n\n",
        "        elif d == choice_9:\n",
        "            penalty += 500 + 36 * n + 199 * n\n",
        "        else:\n",
        "            penalty += 500 + 36 * n + 398 * n\n",
        "\n",
        "    # for each date, check total occupancy\n",
        "    for _, v in daily_occupancy.items():\n",
        "        if (v > MAX_OCCUPANCY) or (v < MIN_OCCUPANCY):\n",
        "            penalty += 100000000\n",
        "\n",
        "    # Calculate the accounting cost\n",
        "    # The first day (day 100) is treated special\n",
        "    accounting_cost = (daily_occupancy[days[0]]-125.0) / 400.0 * daily_occupancy[days[0]]**(0.5)\n",
        "    # using the max function because the soft constraints might allow occupancy to dip below 125\n",
        "    accounting_cost = max(0, accounting_cost)\n",
        "    \n",
        "    # Loop over the rest of the days, keeping track of previous count\n",
        "    yesterday_count = daily_occupancy[days[0]]\n",
        "    for day in days[1:]:\n",
        "        today_count = daily_occupancy[day]\n",
        "        diff = abs(today_count - yesterday_count)\n",
        "        accounting_cost += max(0, (daily_occupancy[day]-125.0) / 400.0 * daily_occupancy[day]**(0.5 + diff / 50.0))\n",
        "        yesterday_count = today_count\n",
        "\n",
        "    penalty += accounting_cost\n",
        "\n",
        "    return penalty"
      ],
      "execution_count": 0,
      "outputs": []
    },
    {
      "cell_type": "markdown",
      "metadata": {
        "id": "aw_PpOKLbrka",
        "colab_type": "text"
      },
      "source": [
        "The simpliest model predicting the costs:"
      ]
    },
    {
      "cell_type": "code",
      "metadata": {
        "id": "NlEPBBJUyKpF",
        "colab_type": "code",
        "outputId": "24ef28cb-2546-4b52-99af-9e1df0450b3f",
        "colab": {
          "base_uri": "https://localhost:8080/",
          "height": 34
        }
      },
      "source": [
        "# Start with the sample submission values\n",
        "best = submission['assigned_day'].tolist()\n",
        "start_score = cost_function(best)\n",
        "\n",
        "new = best.copy()\n",
        "# loop over each family\n",
        "for fam_id, _ in enumerate(best):\n",
        "    # loop over each family choice\n",
        "    for pick in range(10):\n",
        "        day = choice_dict[f'choice_{pick}'][fam_id]\n",
        "        temp = new.copy()\n",
        "        temp[fam_id] = day # add in the new pick\n",
        "        if cost_function(temp) < start_score:\n",
        "            new = temp.copy()\n",
        "            start_score = cost_function(new)\n",
        "\n",
        "submission['assigned_day'] = new\n",
        "score = cost_function(new)\n",
        "print(f'Score: {score}')"
      ],
      "execution_count": 0,
      "outputs": [
        {
          "output_type": "stream",
          "text": [
            "Score: 672254.0276683343\n"
          ],
          "name": "stdout"
        }
      ]
    },
    {
      "cell_type": "code",
      "metadata": {
        "id": "-Y1z5SEA2dmc",
        "colab_type": "code",
        "outputId": "fad58770-bc72-4209-ac58-5b25f4ed3882",
        "colab": {
          "base_uri": "https://localhost:8080/",
          "height": 235
        }
      },
      "source": [
        "submission.head()"
      ],
      "execution_count": 0,
      "outputs": [
        {
          "output_type": "execute_result",
          "data": {
            "text/html": [
              "<div>\n",
              "<style scoped>\n",
              "    .dataframe tbody tr th:only-of-type {\n",
              "        vertical-align: middle;\n",
              "    }\n",
              "\n",
              "    .dataframe tbody tr th {\n",
              "        vertical-align: top;\n",
              "    }\n",
              "\n",
              "    .dataframe thead th {\n",
              "        text-align: right;\n",
              "    }\n",
              "</style>\n",
              "<table border=\"1\" class=\"dataframe\">\n",
              "  <thead>\n",
              "    <tr style=\"text-align: right;\">\n",
              "      <th></th>\n",
              "      <th>assigned_day</th>\n",
              "    </tr>\n",
              "    <tr>\n",
              "      <th>family_id</th>\n",
              "      <th></th>\n",
              "    </tr>\n",
              "  </thead>\n",
              "  <tbody>\n",
              "    <tr>\n",
              "      <th>0</th>\n",
              "      <td>52</td>\n",
              "    </tr>\n",
              "    <tr>\n",
              "      <th>1</th>\n",
              "      <td>26</td>\n",
              "    </tr>\n",
              "    <tr>\n",
              "      <th>2</th>\n",
              "      <td>100</td>\n",
              "    </tr>\n",
              "    <tr>\n",
              "      <th>3</th>\n",
              "      <td>2</td>\n",
              "    </tr>\n",
              "    <tr>\n",
              "      <th>4</th>\n",
              "      <td>53</td>\n",
              "    </tr>\n",
              "  </tbody>\n",
              "</table>\n",
              "</div>"
            ],
            "text/plain": [
              "           assigned_day\n",
              "family_id              \n",
              "0                    52\n",
              "1                    26\n",
              "2                   100\n",
              "3                     2\n",
              "4                    53"
            ]
          },
          "metadata": {
            "tags": []
          },
          "execution_count": 40
        }
      ]
    },
    {
      "cell_type": "markdown",
      "metadata": {
        "id": "_drTQB84QdpE",
        "colab_type": "text"
      },
      "source": [
        "**Explaratory Data Analisys**\n",
        "\n",
        "Due to the cost function the bigger the family is the more expensive their stay on the distant day will be. So let's see how many large families there is. "
      ]
    },
    {
      "cell_type": "code",
      "metadata": {
        "id": "Aqs85HnrO4NU",
        "colab_type": "code",
        "outputId": "9913daf4-4cab-456c-e0ed-052112fb961f",
        "colab": {
          "base_uri": "https://localhost:8080/",
          "height": 413
        }
      },
      "source": [
        "family_size = family_data['n_people'].value_counts().sort_index()\n",
        "\n",
        "\n",
        "plt.figure(figsize=(14,6))\n",
        "ax = sns.barplot(x=family_size.index, y=family_size.values)\n",
        "\n",
        "ax.set_ylim(0, 1.1*max(family_size))\n",
        "plt.xlabel('Family Size', fontsize=14)\n",
        "plt.ylabel('Number of families', fontsize=14)\n",
        "plt.title('Members in Family', fontsize=20)\n",
        "plt.show()"
      ],
      "execution_count": 0,
      "outputs": [
        {
          "output_type": "display_data",
          "data": {
            "image/png": "[encoded data removed]",
            "text/plain": [
              "<Figure size 1008x432 with 1 Axes>"
            ]
          },
          "metadata": {
            "tags": []
          }
        }
      ]
    },
    {
      "cell_type": "markdown",
      "metadata": {
        "id": "MTZ9SKJDUsBF",
        "colab_type": "text"
      },
      "source": [
        "Therefore, the share of really large families is small and it will not be a problem to choose the best days for them. "
      ]
    },
    {
      "cell_type": "code",
      "metadata": {
        "id": "pCOnkOPaWUG2",
        "colab_type": "code",
        "outputId": "2a00a2a3-31c0-4497-f4e8-2586554dd11c",
        "colab": {
          "base_uri": "https://localhost:8080/",
          "height": 592
        }
      },
      "source": [
        "plt.figure(figsize=(16,9))\n",
        "sns.distplot(family_data['choice_0'],bins=100,kde=False)\n",
        "plt.xlabel('$\\Leftarrow$ Christmas this way!', fontsize=14)\n",
        "plt.title('Preferred Choice of each Family')"
      ],
      "execution_count": 0,
      "outputs": [
        {
          "output_type": "execute_result",
          "data": {
            "text/plain": [
              "Text(0.5, 1.0, 'Preferred Choice of each Family')"
            ]
          },
          "metadata": {
            "tags": []
          },
          "execution_count": 46
        },
        {
          "output_type": "display_data",
          "data": {
            "image/png": "[encoded data removed]",
            "text/plain": [
              "<Figure size 1152x648 with 1 Axes>"
            ]
          },
          "metadata": {
            "tags": []
          }
        }
      ]
    },
    {
      "cell_type": "code",
      "metadata": {
        "id": "JiWlHzn0Y6dT",
        "colab_type": "code",
        "outputId": "928ef83d-f055-4167-ea74-2606cf0ae1ac",
        "colab": {
          "base_uri": "https://localhost:8080/",
          "height": 585
        }
      },
      "source": [
        "plt.figure(figsize=(16,9))\n",
        "sns.distplot(family_data['choice_9'],bins=100,kde=False)\n",
        "plt.title('Least Preferred Choice for each Family')"
      ],
      "execution_count": 0,
      "outputs": [
        {
          "output_type": "execute_result",
          "data": {
            "text/plain": [
              "Text(0.5, 1.0, 'Least Preferred Choice for each Family')"
            ]
          },
          "metadata": {
            "tags": []
          },
          "execution_count": 48
        },
        {
          "output_type": "display_data",
          "data": {
            "image/png": "[encoded data removed]",
            "text/plain": [
              "<Figure size 1152x648 with 1 Axes>"
            ]
          },
          "metadata": {
            "tags": []
          }
        }
      ]
    },
    {
      "cell_type": "code",
      "metadata": {
        "id": "-7SHzLc-ZA01",
        "colab_type": "code",
        "outputId": "ca9a1364-3d91-41eb-f8b3-94ed022c03e0",
        "colab": {
          "base_uri": "https://localhost:8080/",
          "height": 585
        }
      },
      "source": [
        "plt.figure(figsize=(16,9))\n",
        "sns.distplot(family_data['choice_4'],bins=100,kde=False)\n",
        "plt.title('5th Preferred Choice for each Family')"
      ],
      "execution_count": 0,
      "outputs": [
        {
          "output_type": "execute_result",
          "data": {
            "text/plain": [
              "Text(0.5, 1.0, '5th Preferred Choice for each Family')"
            ]
          },
          "metadata": {
            "tags": []
          },
          "execution_count": 50
        },
        {
          "output_type": "display_data",
          "data": {
            "image/png": "[encoded data removed]",
            "text/plain": [
              "<Figure size 1152x648 with 1 Axes>"
            ]
          },
          "metadata": {
            "tags": []
          }
        }
      ]
    },
    {
      "cell_type": "markdown",
      "metadata": {
        "id": "PPcYGvOTZN_t",
        "colab_type": "text"
      },
      "source": [
        "So the distribution of all choices is similar as most of tje families prefer either weekends or the day before Christmas. Also, the weekday wishes decrease towards the further days. "
      ]
    },
    {
      "cell_type": "markdown",
      "metadata": {
        "id": "2NwcZIZ7b9T4",
        "colab_type": "text"
      },
      "source": [
        "There is no extra variables and no gaps in data. \n",
        "\n",
        "This problem hardly can be solved usind ML methods, however, I have to try.\n",
        "\n",
        "Firstly, I'll try to predict the best days with kmeans.\n",
        "Если бы можно было задать размеры кластеров (125-300 точек в кластере) и разделить все семьи на 100 кластеров, то номера этих кластеров были бы назначенными днями. И с учетом этих дней можно было бы посчитать затраты. (Но я не нашла информации, какими параметрами можно задать размеры кластера).\n",
        "\n",
        "Можно попробовать построить регрессии и вычислить средние значения наилучшего дня для похожих семей, а потом считать затраты. (Но это у меня тоже не получилось)"
      ]
    },
    {
      "cell_type": "code",
      "metadata": {
        "id": "x2x_jaVsLX8e",
        "colab_type": "code",
        "outputId": "a001b869-068c-4661-873e-c44d45f49453",
        "colab": {
          "base_uri": "https://localhost:8080/",
          "height": 450
        }
      },
      "source": [
        "data=pd.merge(family_data,submission,on='family_id',how='inner')\n",
        "data\n",
        "X=data.iloc[:,5:11]\n",
        "y=data.loc[:,['assigned_day']]\n",
        "X\n",
        "y\n"
      ],
      "execution_count": 0,
      "outputs": [
        {
          "output_type": "execute_result",
          "data": {
            "text/html": [
              "<div>\n",
              "<style scoped>\n",
              "    .dataframe tbody tr th:only-of-type {\n",
              "        vertical-align: middle;\n",
              "    }\n",
              "\n",
              "    .dataframe tbody tr th {\n",
              "        vertical-align: top;\n",
              "    }\n",
              "\n",
              "    .dataframe thead th {\n",
              "        text-align: right;\n",
              "    }\n",
              "</style>\n",
              "<table border=\"1\" class=\"dataframe\">\n",
              "  <thead>\n",
              "    <tr style=\"text-align: right;\">\n",
              "      <th></th>\n",
              "      <th>assigned_day</th>\n",
              "    </tr>\n",
              "    <tr>\n",
              "      <th>family_id</th>\n",
              "      <th></th>\n",
              "    </tr>\n",
              "  </thead>\n",
              "  <tbody>\n",
              "    <tr>\n",
              "      <th>0</th>\n",
              "      <td>52</td>\n",
              "    </tr>\n",
              "    <tr>\n",
              "      <th>1</th>\n",
              "      <td>26</td>\n",
              "    </tr>\n",
              "    <tr>\n",
              "      <th>2</th>\n",
              "      <td>100</td>\n",
              "    </tr>\n",
              "    <tr>\n",
              "      <th>3</th>\n",
              "      <td>2</td>\n",
              "    </tr>\n",
              "    <tr>\n",
              "      <th>4</th>\n",
              "      <td>53</td>\n",
              "    </tr>\n",
              "    <tr>\n",
              "      <th>...</th>\n",
              "      <td>...</td>\n",
              "    </tr>\n",
              "    <tr>\n",
              "      <th>4995</th>\n",
              "      <td>16</td>\n",
              "    </tr>\n",
              "    <tr>\n",
              "      <th>4996</th>\n",
              "      <td>88</td>\n",
              "    </tr>\n",
              "    <tr>\n",
              "      <th>4997</th>\n",
              "      <td>32</td>\n",
              "    </tr>\n",
              "    <tr>\n",
              "      <th>4998</th>\n",
              "      <td>67</td>\n",
              "    </tr>\n",
              "    <tr>\n",
              "      <th>4999</th>\n",
              "      <td>13</td>\n",
              "    </tr>\n",
              "  </tbody>\n",
              "</table>\n",
              "<p>5000 rows × 1 columns</p>\n",
              "</div>"
            ],
            "text/plain": [
              "           assigned_day\n",
              "family_id              \n",
              "0                    52\n",
              "1                    26\n",
              "2                   100\n",
              "3                     2\n",
              "4                    53\n",
              "...                 ...\n",
              "4995                 16\n",
              "4996                 88\n",
              "4997                 32\n",
              "4998                 67\n",
              "4999                 13\n",
              "\n",
              "[5000 rows x 1 columns]"
            ]
          },
          "metadata": {
            "tags": []
          },
          "execution_count": 64
        }
      ]
    },
    {
      "cell_type": "code",
      "metadata": {
        "id": "lStW-REbMKJl",
        "colab_type": "code",
        "colab": {}
      },
      "source": [
        "from sklearn.model_selection import train_test_split\n",
        "X_train,X_test,y_train,y_test=train_test_split(X,y,test_size=.20,random_state=0)\n"
      ],
      "execution_count": 0,
      "outputs": []
    },
    {
      "cell_type": "code",
      "metadata": {
        "id": "dPyeQD0FMW6z",
        "colab_type": "code",
        "colab": {}
      },
      "source": [
        "from sklearn.linear_model import LinearRegression\n",
        "\n",
        "lr=LinearRegression()\n",
        "lr.fit(X_train,y_train)\n",
        "y_pred = lr.predict(X_test)\n"
      ],
      "execution_count": 0,
      "outputs": []
    },
    {
      "cell_type": "markdown",
      "metadata": {
        "id": "KrtshI0BYNOu",
        "colab_type": "text"
      },
      "source": [
        ""
      ]
    }
  ]
}